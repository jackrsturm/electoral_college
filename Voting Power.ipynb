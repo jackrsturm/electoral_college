{
 "cells": [
  {
   "cell_type": "code",
   "execution_count": 1,
   "metadata": {},
   "outputs": [],
   "source": [
    "import pandas as pd\n",
    "import numpy as np\n",
    "import seaborn as sns\n",
    "import math\n",
    "from matplotlib import pyplot as plt"
   ]
  },
  {
   "cell_type": "markdown",
   "metadata": {},
   "source": [
    "Let's begin by exploring the number of electoral votes per state. "
   ]
  },
  {
   "cell_type": "code",
   "execution_count": 2,
   "metadata": {},
   "outputs": [
    {
     "name": "stdout",
     "output_type": "stream",
     "text": [
      "  code       state  num_electoral_votes\n",
      "0   AL     ALABAMA                    9\n",
      "1   AK      ALASKA                    3\n",
      "2   AZ     ARIZONA                   11\n",
      "3   AR    ARKANSAS                    6\n",
      "4   CA  CALIFORNIA                   55\n",
      "code                   object\n",
      "state                  object\n",
      "num_electoral_votes     int64\n",
      "dtype: object\n"
     ]
    }
   ],
   "source": [
    "#Create a pandas DataFrame with the electoral votes by state data\n",
    "electoral_votes = pd.read_csv('electoral_votes_by_state.csv')\n",
    "\n",
    "#Preview this DataFrame\n",
    "print(electoral_votes.head(5))\n",
    "print(electoral_votes.dtypes)"
   ]
  },
  {
   "cell_type": "code",
   "execution_count": 3,
   "metadata": {},
   "outputs": [
    {
     "name": "stdout",
     "output_type": "stream",
     "text": [
      "There are a total of 538 electoral votes.\n"
     ]
    }
   ],
   "source": [
    "#Determine the total number of electoral votes\n",
    "total_electoral_votes = electoral_votes['num_electoral_votes'].sum()\n",
    "\n",
    "#Print the total number of electoral votes\n",
    "print(\"There are a total of \" + str(total_electoral_votes) + \" electoral votes.\")"
   ]
  },
  {
   "cell_type": "markdown",
   "metadata": {},
   "source": [
    "As we can see, there are a total of 538 electoral votes. Let's now look at the voting eligible population (VEP) and voting age population (VAP) in each state. "
   ]
  },
  {
   "cell_type": "code",
   "execution_count": 4,
   "metadata": {},
   "outputs": [
    {
     "name": "stdout",
     "output_type": "stream",
     "text": [
      "                  State                                             Source  \\\n",
      "0               Alabama  https://www.sos.alabama.gov/sites/default/file...   \n",
      "1                Alaska  https://www.elections.alaska.gov/results/20GEN...   \n",
      "2               Arizona       https://results.arizona.vote/#/featured/18/0   \n",
      "3              Arkansas  https://results.enr.clarityelections.com/AR/10...   \n",
      "4            California                https://electionresults.sos.ca.gov/   \n",
      "5              Colorado  https://results.enr.clarityelections.com/CO/10...   \n",
      "6           Connecticut         https://ctemspublic.pcctg.net/#/selectTown   \n",
      "7              Delaware  https://elections.delaware.gov/results/html/in...   \n",
      "8  District of Columbia  https://electionresults.dcboe.org/election_res...   \n",
      "9               Florida  https://floridaelectionwatch.gov/CountyReporti...   \n",
      "\n",
      "   Official Total_Ballots_Counted Vote_For_Highest VEP_Turnout_Total  \\\n",
      "0  OFFICIAL               2325000          2323282            63.10%   \n",
      "1  OFFICIAL                361400           359530            68.80%   \n",
      "2  OFFICIAL               3420565          3385294            65.90%   \n",
      "3  OFFICIAL               1223675          1219069            56.10%   \n",
      "4  OFFICIAL              17783784         17495826            68.50%   \n",
      "5  OFFICIAL               3295666          3256952            76.40%   \n",
      "6  OFFICIAL               1861086          1824280            71.50%   \n",
      "7  OFFICIAL                509241           504010            70.70%   \n",
      "8  OFFICIAL                346491           344356            64.10%   \n",
      "9  OFFICIAL              11144855         11067456            71.70%   \n",
      "\n",
      "  VEP_Turnout_Highest       VEP       VAP Noncitizen_Percent  Prison  \\\n",
      "0              63.10%   3683055   3837540              2.30%   25898   \n",
      "1              68.40%    525568    551117              3.40%    4293   \n",
      "2              65.20%   5189000   5798473              8.90%   38520   \n",
      "3              55.90%   2182375   2331171              3.60%   17510   \n",
      "4              67.40%  25962648  30783255             15.00%  104730   \n",
      "5              75.50%   4313054   4595504              5.70%   18905   \n",
      "6              70.10%   2603327   2839560              7.70%   13268   \n",
      "7              69.90%    720531    780822              5.80%    5874   \n",
      "8              63.70%    540685    582065              7.10%       0   \n",
      "9              71.20%  15551739  17543341             10.10%   91674   \n",
      "\n",
      "  Probation  Parole Total_Ineligible_Felon  Overseas_Eligible code  \n",
      "0     50997   10266                  67782                NaN   AL  \n",
      "1      2074    1348                   6927                NaN   AK  \n",
      "2     76844    7536                  93699                NaN   AZ  \n",
      "3     36719   24698                  64974                NaN   AR  \n",
      "4         0  102586                 207316                NaN   CA  \n",
      "5         0       0                  18905                NaN   CO  \n",
      "6         0    4452                  17720                NaN   CT  \n",
      "7     14176     350                  15013                NaN   DE  \n",
      "8         0       0                      0                NaN   DC  \n",
      "9    205033    4345                 223139                NaN   FL  \n",
      "State                      object\n",
      "Source                     object\n",
      "Official                   object\n",
      "Total_Ballots_Counted      object\n",
      "Vote_For_Highest           object\n",
      "VEP_Turnout_Total          object\n",
      "VEP_Turnout_Highest        object\n",
      "VEP                         int64\n",
      "VAP                         int64\n",
      "Noncitizen_Percent         object\n",
      "Prison                     object\n",
      "Probation                  object\n",
      "Parole                     object\n",
      "Total_Ineligible_Felon     object\n",
      "Overseas_Eligible         float64\n",
      "code                       object\n",
      "dtype: object\n"
     ]
    }
   ],
   "source": [
    "#Create a pandas DataFrame with the 2020 turnout rate data\n",
    "voting_population = pd.read_csv('2020_turnout_rates.csv')\n",
    "\n",
    "#Remove the commas from the population numbers and convert them to numeric values\n",
    "voting_population.replace(',','', regex=True, inplace=True)\n",
    "voting_population['VAP'] = voting_population['VAP'].apply(pd.to_numeric,errors='coerce')\n",
    "voting_population['VEP'] = voting_population['VEP'].apply(pd.to_numeric,errors='coerce')\n",
    "\n",
    "#Preview this DataFrame and the type of data stored in each column\n",
    "print(voting_population.head(10))\n",
    "print(voting_population.dtypes)"
   ]
  },
  {
   "cell_type": "code",
   "execution_count": 5,
   "metadata": {},
   "outputs": [
    {
     "name": "stdout",
     "output_type": "stream",
     "text": [
      "                  State code  population\n",
      "0               Alabama   AL     3683055\n",
      "1                Alaska   AK      525568\n",
      "2               Arizona   AZ     5189000\n",
      "3              Arkansas   AR     2182375\n",
      "4            California   CA    25962648\n",
      "5              Colorado   CO     4313054\n",
      "6           Connecticut   CT     2603327\n",
      "7              Delaware   DE      720531\n",
      "8  District of Columbia   DC      540685\n",
      "9               Florida   FL    15551739\n"
     ]
    }
   ],
   "source": [
    "#Create a new DataFrame that only contains the state and its VEP\n",
    "VEP = voting_population[['State', 'code', 'VEP']].copy()\n",
    "\n",
    "#Rename the columns so that this population scheme can be passed into a function\n",
    "VEP.columns = ['State', 'code', 'population']\n",
    "\n",
    "#Preview the DataFrame\n",
    "print(VEP.head(10))"
   ]
  },
  {
   "cell_type": "markdown",
   "metadata": {},
   "source": [
    "We'll utilize a function so that we can run the analysis again on other hypothetical breakdowns of electoral votes. "
   ]
  },
  {
   "cell_type": "code",
   "execution_count": 6,
   "metadata": {},
   "outputs": [],
   "source": [
    "#This function takes two data frames as arguments. The first data frame is an electoral college scheme (determining\n",
    "#many electoral votes each state possesses) and the second data frame is the voting population (either VEP or VAP).\n",
    "\n",
    "def analyze_voting_equity(electoral, population_data):\n",
    "    \n",
    "    #Determine the number of electoral votes in the electoral college scheme\n",
    "    total_electoral_votes = electoral['num_electoral_votes'].sum()\n",
    "    print(\"In this electoral college scheme, there are a total of \" + str(total_electoral_votes) + \" electoral votes.\")\n",
    "    \n",
    "    #Determine the number of voters in the voting population scheme\n",
    "    total_voters = population_data['population'].sum()\n",
    "    print(\"Using this voting population data, there are a total of \" + str(total_voters) + \" voters.\")\n",
    "    \n",
    "    #Compute the average voting power (i.e. how many voters would correspond to each electoral vote if \n",
    "    #votes were distributed equally amongst all voters)\n",
    "    average_voting_power = int(round(total_voters / total_electoral_votes))\n",
    "    print(\"If votes were distributed equitably, each electoral vote would correspond to approximately \"\n",
    "          + str(average_voting_power) + \" people. Let's see how this compares to the actual distribution.\")\n",
    "    \n",
    "    #Join the electoral college and voting power schemes on the state code column\n",
    "    voting_power = population_data.join(electoral.set_index('code'), on='code')\n",
    "    voting_power = voting_power[['State', 'code', 'population', 'num_electoral_votes']]\n",
    "    #Add a column that computes voting power: number of voters divided by the number of electoral votes\n",
    "    #This is the number of voters per electoral vote\n",
    "    voting_power['voting_power'] = voting_power.apply(lambda row: round(row['population'] / row['num_electoral_votes']),axis=1)\n",
    "    \n",
    "    #Convert the voting power and state codes to lists so that they can be graphed\n",
    "    power = np.array(voting_power['voting_power'].to_list())\n",
    "    codes = voting_power['code'].to_list()\n",
    "    \n",
    "    #Create a threshold value which is the average voting power (this will be displayed as a dotted line on the graph)\n",
    "    threshold = average_voting_power\n",
    "    #The above_threshold and below_threshold variables allow us to color-code the portions of the bar graph that are above\n",
    "    #and below the threshold dotted line\n",
    "    above_threshold = np.maximum(power - threshold, 0)\n",
    "    below_threshold = np.minimum(power, threshold)\n",
    "    \n",
    "    #Create a bar chart illustrating the voting power per state\n",
    "    x = range(len(power))\n",
    "    \n",
    "    fig, ax = plt.subplots(figsize = (20,6))\n",
    "    ax.bar(x, below_threshold, 0.35, color=\"g\")\n",
    "    ax.bar(x, above_threshold, 0.35, color=\"r\",bottom=below_threshold)\n",
    "    ax.plot([0,50],[threshold, threshold], \"k--\")\n",
    "    ax.set_xticks(range(len(power)))\n",
    "    ax.set_xticklabels(codes)\n",
    "    plt.ylabel(\"Number of People per Electoral Vote\")\n",
    "    plt.xlabel(\"State\")\n",
    "    plt.show()\n",
    "    \n",
    "    #Create a new DataFrame that is sorted by voting power\n",
    "    voting_power_sorted = voting_power.sort_values(by=['voting_power'])\n",
    "    print(voting_power_sorted)\n",
    "    \n",
    "    #Look at descriptive statistics for the voting_power column\n",
    "    print(voting_power.voting_power.describe())"
   ]
  },
  {
   "cell_type": "code",
   "execution_count": 7,
   "metadata": {},
   "outputs": [
    {
     "name": "stdout",
     "output_type": "stream",
     "text": [
      "In this electoral college scheme, there are a total of 538 electoral votes.\n",
      "Using this voting population data, there are a total of 234632885 voters.\n",
      "If votes were distributed equitably, each electoral vote would correspond to approximately 436121 people. Let's see how this compares to the actual distribution.\n"
     ]
    },
    {
     "data": {
      "image/png": "[encoded data removed]",
      "text/plain": [
       "<Figure size 1440x432 with 1 Axes>"
      ]
     },
     "metadata": {
      "needs_background": "light"
     },
     "output_type": "display_data"
    },
    {
     "name": "stdout",
     "output_type": "stream",
     "text": [
      "                   State code  population  num_electoral_votes  voting_power\n",
      "50               Wyoming   WY      431364                    3        143788\n",
      "45               Vermont   VT      499884                    3        166628\n",
      "1                 Alaska   AK      525568                    3        175189\n",
      "8   District of Columbia   DC      540685                    3        180228\n",
      "34          North Dakota   ND      565143                    3        188381\n",
      "39          Rhode Island   RI      799642                    4        199910\n",
      "41          South Dakota   SD      648104                    3        216035\n",
      "7               Delaware   DE      720531                    3        240177\n",
      "11                Hawaii   HI     1007920                    4        251980\n",
      "29         New Hampshire   NH     1079434                    4        269858\n",
      "19                 Maine   ME     1085285                    4        271321\n",
      "27              Nebraska   NE     1383551                    5        276710\n",
      "48         West Virginia   WV     1394028                    5        278806\n",
      "26               Montana   MT      837298                    3        279099\n",
      "31            New Mexico   NM     1515355                    5        303071\n",
      "12                 Idaho   ID     1292701                    4        323175\n",
      "16                Kansas   KS     2087946                    6        347991\n",
      "28                Nevada   NV     2153915                    6        358986\n",
      "3               Arkansas   AR     2182375                    6        363729\n",
      "44                  Utah   UT     2191487                    6        365248\n",
      "24           Mississippi   MS     2201950                    6        366992\n",
      "6            Connecticut   CT     2603327                    7        371904\n",
      "15                  Iowa   IA     2321131                    6        386855\n",
      "36              Oklahoma   OK     2845835                    7        406548\n",
      "0                Alabama   AL     3683055                    9        409228\n",
      "23             Minnesota   MN     4118462                   10        411846\n",
      "17              Kentucky   KY     3312250                    8        414031\n",
      "18             Louisiana   LA     3373932                    8        421742\n",
      "20              Maryland   MD     4313416                   10        431342\n",
      "40        South Carolina   SC     3926305                    9        436256\n",
      "49             Wisconsin   WI     4368530                   10        436853\n",
      "30            New Jersey   NJ     6158999                   14        439928\n",
      "13              Illinois   IL     9027082                   20        451354\n",
      "47            Washington   WA     5437844                   12        453154\n",
      "14               Indiana   IN     5000007                   11        454546\n",
      "37                Oregon   OR     3196425                    7        456632\n",
      "25              Missouri   MO     4603060                   10        460306\n",
      "21         Massachusetts   MA     5072901                   11        461173\n",
      "10               Georgia   GA     7383562                   16        461473\n",
      "42             Tennessee   TN     5124867                   11        465897\n",
      "32              New York   NY    13670596                   29        471400\n",
      "2                Arizona   AZ     5189000                   11        471727\n",
      "22              Michigan   MI     7550147                   16        471884\n",
      "4             California   CA    25962648                   55        472048\n",
      "46              Virginia   VA     6196071                   13        476621\n",
      "5               Colorado   CO     4313054                    9        479228\n",
      "38          Pennsylvania   PA     9781976                   20        489099\n",
      "35                  Ohio   OH     8859167                   18        492176\n",
      "43                 Texas   TX    18784280                   38        494323\n",
      "33        North Carolina   NC     7759051                   15        517270\n",
      "9                Florida   FL    15551739                   29        536267\n",
      "count        51.000000\n",
      "mean     375890.450980\n",
      "std      107834.245362\n",
      "min      143788.000000\n",
      "25%      278952.500000\n",
      "50%      411846.000000\n",
      "75%      461323.000000\n",
      "max      536267.000000\n",
      "Name: voting_power, dtype: float64\n"
     ]
    }
   ],
   "source": [
    "#Run the voting equity function with the current electoral vote scheme and the VEP population data\n",
    "analyze_voting_equity(electoral_votes, VEP)"
   ]
  },
  {
   "cell_type": "code",
   "execution_count": 15,
   "metadata": {},
   "outputs": [],
   "source": [
    "#Create a new electoral college scheme to see if we can make it more equitable.\n",
    "#Start with a copy of the VEP DataFrame (since our electoral college scheme will be population-based)\n",
    "new_electoral = VEP.copy()\n",
    "new_electoral = new_electoral[['code', 'State', 'population']]\n",
    "new_electoral.columns = ['code', 'state', 'Population']\n",
    "\n",
    "#add a column for number of electoral votes\n",
    "#Choose the appropriate code if you want to round up, round down, or round traditionally\n",
    "\n",
    "#round down\n",
    "#new_electoral['num_electoral_votes'] = np.maximum(np.floor(new_electoral['Population'] / 436121),1)\n",
    "#round up\n",
    "#new_electoral['num_electoral_votes'] = np.ceil(new_electoral['Population'] / 436121)\n",
    "#round traditionally\n",
    "new_electoral['num_electoral_votes'] = round(new_electoral['Population'] / 436121)"
   ]
  },
  {
   "cell_type": "code",
   "execution_count": 16,
   "metadata": {},
   "outputs": [
    {
     "name": "stdout",
     "output_type": "stream",
     "text": [
      "In this electoral college scheme, there are a total of 535.0 electoral votes.\n",
      "Using this voting population data, there are a total of 234632885 voters.\n",
      "If votes were distributed equitably, each electoral vote would correspond to approximately 438566 people. Let's see how this compares to the actual distribution.\n"
     ]
    },
    {
     "data": {
      "image/png": "[encoded data removed]",
      "text/plain": [
       "<Figure size 1440x432 with 1 Axes>"
      ]
     },
     "metadata": {
      "needs_background": "light"
     },
     "output_type": "display_data"
    },
    {
     "name": "stdout",
     "output_type": "stream",
     "text": [
      "                   State code  population  num_electoral_votes  voting_power\n",
      "7               Delaware   DE      720531                  2.0        360266\n",
      "39          Rhode Island   RI      799642                  2.0        399821\n",
      "36              Oklahoma   OK     2845835                  7.0        406548\n",
      "17              Kentucky   KY     3312250                  8.0        414031\n",
      "16                Kansas   KS     2087946                  5.0        417589\n",
      "25              Missouri   MO     4603060                 11.0        418460\n",
      "26               Montana   MT      837298                  2.0        418649\n",
      "18             Louisiana   LA     3373932                  8.0        421742\n",
      "21         Massachusetts   MA     5072901                 12.0        422742\n",
      "42             Tennessee   TN     5124867                 12.0        427072\n",
      "13              Illinois   IL     9027082                 21.0        429861\n",
      "28                Nevada   NV     2153915                  5.0        430783\n",
      "12                 Idaho   ID     1292701                  3.0        430900\n",
      "33        North Carolina   NC     7759051                 18.0        431058\n",
      "5               Colorado   CO     4313054                 10.0        431305\n",
      "20              Maryland   MD     4313416                 10.0        431342\n",
      "50               Wyoming   WY      431364                  1.0        431364\n",
      "9                Florida   FL    15551739                 36.0        431993\n",
      "2                Arizona   AZ     5189000                 12.0        432417\n",
      "4             California   CA    25962648                 60.0        432711\n",
      "6            Connecticut   CT     2603327                  6.0        433888\n",
      "10               Georgia   GA     7383562                 17.0        434327\n",
      "40        South Carolina   SC     3926305                  9.0        436256\n",
      "3               Arkansas   AR     2182375                  5.0        436475\n",
      "43                 Texas   TX    18784280                 43.0        436844\n",
      "49             Wisconsin   WI     4368530                 10.0        436853\n",
      "44                  Utah   UT     2191487                  5.0        438297\n",
      "30            New Jersey   NJ     6158999                 14.0        439928\n",
      "24           Mississippi   MS     2201950                  5.0        440390\n",
      "32              New York   NY    13670596                 31.0        440987\n",
      "46              Virginia   VA     6196071                 14.0        442576\n",
      "35                  Ohio   OH     8859167                 20.0        442958\n",
      "22              Michigan   MI     7550147                 17.0        444126\n",
      "38          Pennsylvania   PA     9781976                 22.0        444635\n",
      "47            Washington   WA     5437844                 12.0        453154\n",
      "14               Indiana   IN     5000007                 11.0        454546\n",
      "37                Oregon   OR     3196425                  7.0        456632\n",
      "23             Minnesota   MN     4118462                  9.0        457607\n",
      "0                Alabama   AL     3683055                  8.0        460382\n",
      "27              Nebraska   NE     1383551                  3.0        461184\n",
      "15                  Iowa   IA     2321131                  5.0        464226\n",
      "48         West Virginia   WV     1394028                  3.0        464676\n",
      "45               Vermont   VT      499884                  1.0        499884\n",
      "11                Hawaii   HI     1007920                  2.0        503960\n",
      "31            New Mexico   NM     1515355                  3.0        505118\n",
      "1                 Alaska   AK      525568                  1.0        525568\n",
      "29         New Hampshire   NH     1079434                  2.0        539717\n",
      "8   District of Columbia   DC      540685                  1.0        540685\n",
      "19                 Maine   ME     1085285                  2.0        542642\n",
      "34          North Dakota   ND      565143                  1.0        565143\n",
      "41          South Dakota   SD      648104                  1.0        648104\n",
      "count        51.000000\n",
      "mean     453184.745098\n",
      "std       48145.403501\n",
      "min      360266.000000\n",
      "25%      430979.000000\n",
      "50%      436853.000000\n",
      "75%      458994.500000\n",
      "max      648104.000000\n",
      "Name: voting_power, dtype: float64\n"
     ]
    }
   ],
   "source": [
    "#Run the voting equity function with the new electoral college scheme and the VEP population data\n",
    "analyze_voting_equity(new_electoral, VEP)"
   ]
  }
 ],
 "metadata": {
  "kernelspec": {
   "display_name": "Python 3",
   "language": "python",
   "name": "python3"
  },
  "language_info": {
   "codemirror_mode": {
    "name": "ipython",
    "version": 3
   },
   "file_extension": ".py",
   "mimetype": "text/x-python",
   "name": "python",
   "nbconvert_exporter": "python",
   "pygments_lexer": "ipython3",
   "version": "3.8.8"
  }
 },
 "nbformat": 4,
 "nbformat_minor": 4
}
